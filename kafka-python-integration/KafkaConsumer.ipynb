{
 "cells": [
  {
   "cell_type": "code",
   "execution_count": 1,
   "id": "dcf79483-ab6b-4047-afa6-ed8a06804385",
   "metadata": {},
   "outputs": [],
   "source": [
    "from kafka import KafkaConsumer\n",
    "import json"
   ]
  },
  {
   "cell_type": "code",
   "execution_count": null,
   "id": "741bf40a-1777-43e8-a34c-af8fa5b376c9",
   "metadata": {},
   "outputs": [],
   "source": [
    "from kafka import KafkaConsumer\n",
    "import json\n",
    "\n",
    "# Define Kafka consumer\n",
    "consumer = KafkaConsumer(\n",
    "    'test-topic',  # The topic to consume messages from\n",
    "    bootstrap_servers=['localhost:9092'],  # List of Kafka brokers to connect to\n",
    "    auto_offset_reset='earliest',  # Where to start reading messages when no offset is stored ('earliest' to read from the beginning)\n",
    "    enable_auto_commit=True,  # Automatically commit offsets after consuming messages\n",
    "    value_deserializer=lambda x: x.decode('utf-8') if x else None  # Deserialize message values from bytes to UTF-8 strings\n",
    ")\n",
    "\n",
    "# Consume messages with error handling for non-JSON messages\n",
    "for message in consumer:\n",
    "    print(message.value)\n"
   ]
  },
  {
   "cell_type": "code",
   "execution_count": null,
   "id": "60eadd44-eaca-4d52-bde6-bf644575f6ac",
   "metadata": {},
   "outputs": [],
   "source": []
  }
 ],
 "metadata": {
  "kernelspec": {
   "display_name": "Python 3 (ipykernel)",
   "language": "python",
   "name": "python3"
  },
  "language_info": {
   "codemirror_mode": {
    "name": "ipython",
    "version": 3
   },
   "file_extension": ".py",
   "mimetype": "text/x-python",
   "name": "python",
   "nbconvert_exporter": "python",
   "pygments_lexer": "ipython3",
   "version": "3.11.7"
  }
 },
 "nbformat": 4,
 "nbformat_minor": 5
}
